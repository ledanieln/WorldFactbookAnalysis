{
 "cells": [
  {
   "cell_type": "code",
   "execution_count": 7,
   "metadata": {},
   "outputs": [],
   "source": [
    "import pandas\n",
    "import json\n",
    "import os\n",
    "from pathlib import Path"
   ]
  },
  {
   "cell_type": "code",
   "execution_count": 23,
   "metadata": {},
   "outputs": [],
   "source": [
    "# Get path to data file\n",
    "path = '../../../cia_world_factbook_api/data/factbook.json'\n",
    "\n",
    "with open(path, 'r', encoding=\"utf8\") as jsonfile:\n",
    "    data =json.load(jsonfile)"
   ]
  },
  {
   "cell_type": "code",
   "execution_count": 58,
   "metadata": {},
   "outputs": [
    {
     "data": {
      "text/plain": [
       "{'current_issues': ['government water control projects drained most of the inhabited marsh areas east of An Nasiriyah by drying up or diverting the feeder streams and rivers',\n",
       "  'a once sizable population of Marsh Arabs',\n",
       "  'who inhabited these areas for thousands of years',\n",
       "  'has been displaced',\n",
       "  'furthermore',\n",
       "  \"the destruction of the natural habitat poses serious threats to the area's wildlife populations\",\n",
       "  'inadequate supplies of potable water',\n",
       "  'soil degradation (salination) and erosion',\n",
       "  'desertification',\n",
       "  'military and industrial infrastructure has released heavy metals and other hazardous substances into the air',\n",
       "  'soil',\n",
       "  'and groundwater',\n",
       "  'major sources of environmental damage are effluents from oil refineries',\n",
       "  'factory and sewage discharges into rivers',\n",
       "  'fertilizer and chemical contamination of the soil',\n",
       "  'and industrial air pollution in urban areas'],\n",
       " 'international_agreements': {'party_to': ['Biodiversity',\n",
       "   'Hazardous Wastes',\n",
       "   'Law of the Sea',\n",
       "   'Ozone Layer Protection'],\n",
       "  'signed_but_not_ratified': ['Environmental Modification']}}"
      ]
     },
     "execution_count": 58,
     "metadata": {},
     "output_type": "execute_result"
    }
   ],
   "source": [
    "# Extracting useful features from country data\n",
    "\n",
    "# Looking at increases in current environmental issues - \n",
    "# have they increased or decreased? Number of environmental issues increase\n",
    "# what are new additions and which environmental issues have gone away?\n",
    "data['countries']['iraq']['data']['geography']['environment']"
   ]
  },
  {
   "cell_type": "code",
   "execution_count": 41,
   "metadata": {},
   "outputs": [],
   "source": [
    "path2 = '../data/raw/weekly_json/2007-06-18_factbook.json'\n",
    "with open(path2, 'r', encoding=\"utf8\") as jsonfile:\n",
    "    data2 =json.load(jsonfile)"
   ]
  },
  {
   "cell_type": "code",
   "execution_count": 59,
   "metadata": {},
   "outputs": [
    {
     "data": {
      "text/plain": [
       "{'current_issues': ['government water control projects have drained most of the inhabited marsh areas east of An Nasiriyah by drying up or diverting the feeder streams and rivers',\n",
       "  'a once sizable population of Marsh Arabs',\n",
       "  'who inhabited these areas for thousands of years',\n",
       "  'has been displaced',\n",
       "  'furthermore',\n",
       "  \"the destruction of the natural habitat poses serious threats to the area's wildlife populations\",\n",
       "  'inadequate supplies of potable water',\n",
       "  'development of the Tigris and Euphrates rivers system contingent upon agreements with upstream riparian Turkey',\n",
       "  'air and water pollution',\n",
       "  'soil degradation (salination) and erosion',\n",
       "  'desertification'],\n",
       " 'international_agreements': {'party_to': ['Biodiversity',\n",
       "   'Climate Change',\n",
       "   'Law of the Sea'],\n",
       "  'signed_but_not_ratified': ['Environmental Modification']}}"
      ]
     },
     "execution_count": 59,
     "metadata": {},
     "output_type": "execute_result"
    }
   ],
   "source": [
    "data2['countries']['iraq']['data']['geography']['environment']"
   ]
  },
  {
   "cell_type": "code",
   "execution_count": null,
   "metadata": {},
   "outputs": [],
   "source": []
  }
 ],
 "metadata": {
  "kernelspec": {
   "display_name": "Python 3",
   "language": "python",
   "name": "python3"
  },
  "language_info": {
   "codemirror_mode": {
    "name": "ipython",
    "version": 3
   },
   "file_extension": ".py",
   "mimetype": "text/x-python",
   "name": "python",
   "nbconvert_exporter": "python",
   "pygments_lexer": "ipython3",
   "version": "3.8.1"
  }
 },
 "nbformat": 4,
 "nbformat_minor": 4
}
